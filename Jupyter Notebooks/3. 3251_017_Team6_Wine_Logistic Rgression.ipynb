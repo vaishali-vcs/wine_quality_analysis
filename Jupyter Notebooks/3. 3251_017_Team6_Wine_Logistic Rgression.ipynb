{
 "cells": [
  {
   "cell_type": "markdown",
   "metadata": {},
   "source": [
    "## Binary Logistics Regression"
   ]
  },
  {
   "cell_type": "markdown",
   "metadata": {},
   "source": [
    "**Import Relevant Libraries for Data Analysis** "
   ]
  },
  {
   "cell_type": "code",
   "execution_count": 1,
   "metadata": {},
   "outputs": [],
   "source": [
    "import pandas as pd\n",
    "import numpy as np\n",
    "\n",
    "import seaborn as sns\n",
    "import matplotlib\n",
    "import matplotlib.pyplot as plt\n",
    "%matplotlib inline\n",
    "\n",
    "from statsmodels.discrete.discrete_model import Logit\n",
    "from scipy.special import logit\n",
    "\n",
    "from sklearn.model_selection import train_test_split\n",
    "\n",
    "import warnings\n",
    "warnings.filterwarnings(\"ignore\")"
   ]
  },
  {
   "cell_type": "markdown",
   "metadata": {},
   "source": [
    "Read csv data file, white wine in data frame. File has headers and are separated by semicolon \";\""
   ]
  },
  {
   "cell_type": "code",
   "execution_count": 2,
   "metadata": {},
   "outputs": [],
   "source": [
    "urlw='../Resources/winequality-white.csv'\n",
    "dfw = pd.read_csv(urlw, sep=';')"
   ]
  },
  {
   "cell_type": "code",
   "execution_count": 3,
   "metadata": {},
   "outputs": [
    {
     "name": "stdout",
     "output_type": "stream",
     "text": [
      "<class 'pandas.core.frame.DataFrame'>\n",
      "RangeIndex: 4898 entries, 0 to 4897\n",
      "Data columns (total 12 columns):\n",
      "fixed acidity           4898 non-null float64\n",
      "volatile acidity        4898 non-null float64\n",
      "citric acid             4898 non-null float64\n",
      "residual sugar          4898 non-null float64\n",
      "chlorides               4898 non-null float64\n",
      "free sulfur dioxide     4898 non-null float64\n",
      "total sulfur dioxide    4898 non-null float64\n",
      "density                 4898 non-null float64\n",
      "pH                      4898 non-null float64\n",
      "sulphates               4898 non-null float64\n",
      "alcohol                 4898 non-null float64\n",
      "quality                 4898 non-null int64\n",
      "dtypes: float64(11), int64(1)\n",
      "memory usage: 459.3 KB\n"
     ]
    }
   ],
   "source": [
    "dfw.info() # overview of white wine data"
   ]
  },
  {
   "cell_type": "markdown",
   "metadata": {},
   "source": [
    "There are 4898 records and 13 columns (12 inputs and 1 output: quality) in the white wine data frame, most of the data are float type with quality and color as integer and object/string. There are no missing values."
   ]
  },
  {
   "cell_type": "code",
   "execution_count": 4,
   "metadata": {},
   "outputs": [
    {
     "data": {
      "text/html": [
       "<div>\n",
       "<style scoped>\n",
       "    .dataframe tbody tr th:only-of-type {\n",
       "        vertical-align: middle;\n",
       "    }\n",
       "\n",
       "    .dataframe tbody tr th {\n",
       "        vertical-align: top;\n",
       "    }\n",
       "\n",
       "    .dataframe thead th {\n",
       "        text-align: right;\n",
       "    }\n",
       "</style>\n",
       "<table border=\"1\" class=\"dataframe\">\n",
       "  <thead>\n",
       "    <tr style=\"text-align: right;\">\n",
       "      <th></th>\n",
       "      <th>fixed acidity</th>\n",
       "      <th>volatile acidity</th>\n",
       "      <th>citric acid</th>\n",
       "      <th>residual sugar</th>\n",
       "      <th>chlorides</th>\n",
       "      <th>free sulfur dioxide</th>\n",
       "      <th>total sulfur dioxide</th>\n",
       "      <th>density</th>\n",
       "      <th>pH</th>\n",
       "      <th>sulphates</th>\n",
       "      <th>alcohol</th>\n",
       "      <th>quality</th>\n",
       "    </tr>\n",
       "  </thead>\n",
       "  <tbody>\n",
       "    <tr>\n",
       "      <th>0</th>\n",
       "      <td>7.0</td>\n",
       "      <td>0.27</td>\n",
       "      <td>0.36</td>\n",
       "      <td>20.7</td>\n",
       "      <td>0.045</td>\n",
       "      <td>45.0</td>\n",
       "      <td>170.0</td>\n",
       "      <td>1.0010</td>\n",
       "      <td>3.00</td>\n",
       "      <td>0.45</td>\n",
       "      <td>8.8</td>\n",
       "      <td>6</td>\n",
       "    </tr>\n",
       "    <tr>\n",
       "      <th>1</th>\n",
       "      <td>6.3</td>\n",
       "      <td>0.30</td>\n",
       "      <td>0.34</td>\n",
       "      <td>1.6</td>\n",
       "      <td>0.049</td>\n",
       "      <td>14.0</td>\n",
       "      <td>132.0</td>\n",
       "      <td>0.9940</td>\n",
       "      <td>3.30</td>\n",
       "      <td>0.49</td>\n",
       "      <td>9.5</td>\n",
       "      <td>6</td>\n",
       "    </tr>\n",
       "    <tr>\n",
       "      <th>2</th>\n",
       "      <td>8.1</td>\n",
       "      <td>0.28</td>\n",
       "      <td>0.40</td>\n",
       "      <td>6.9</td>\n",
       "      <td>0.050</td>\n",
       "      <td>30.0</td>\n",
       "      <td>97.0</td>\n",
       "      <td>0.9951</td>\n",
       "      <td>3.26</td>\n",
       "      <td>0.44</td>\n",
       "      <td>10.1</td>\n",
       "      <td>6</td>\n",
       "    </tr>\n",
       "    <tr>\n",
       "      <th>3</th>\n",
       "      <td>7.2</td>\n",
       "      <td>0.23</td>\n",
       "      <td>0.32</td>\n",
       "      <td>8.5</td>\n",
       "      <td>0.058</td>\n",
       "      <td>47.0</td>\n",
       "      <td>186.0</td>\n",
       "      <td>0.9956</td>\n",
       "      <td>3.19</td>\n",
       "      <td>0.40</td>\n",
       "      <td>9.9</td>\n",
       "      <td>6</td>\n",
       "    </tr>\n",
       "    <tr>\n",
       "      <th>4</th>\n",
       "      <td>7.2</td>\n",
       "      <td>0.23</td>\n",
       "      <td>0.32</td>\n",
       "      <td>8.5</td>\n",
       "      <td>0.058</td>\n",
       "      <td>47.0</td>\n",
       "      <td>186.0</td>\n",
       "      <td>0.9956</td>\n",
       "      <td>3.19</td>\n",
       "      <td>0.40</td>\n",
       "      <td>9.9</td>\n",
       "      <td>6</td>\n",
       "    </tr>\n",
       "  </tbody>\n",
       "</table>\n",
       "</div>"
      ],
      "text/plain": [
       "   fixed acidity  volatile acidity  citric acid  residual sugar  chlorides  \\\n",
       "0            7.0              0.27         0.36            20.7      0.045   \n",
       "1            6.3              0.30         0.34             1.6      0.049   \n",
       "2            8.1              0.28         0.40             6.9      0.050   \n",
       "3            7.2              0.23         0.32             8.5      0.058   \n",
       "4            7.2              0.23         0.32             8.5      0.058   \n",
       "\n",
       "   free sulfur dioxide  total sulfur dioxide  density    pH  sulphates  \\\n",
       "0                 45.0                 170.0   1.0010  3.00       0.45   \n",
       "1                 14.0                 132.0   0.9940  3.30       0.49   \n",
       "2                 30.0                  97.0   0.9951  3.26       0.44   \n",
       "3                 47.0                 186.0   0.9956  3.19       0.40   \n",
       "4                 47.0                 186.0   0.9956  3.19       0.40   \n",
       "\n",
       "   alcohol  quality  \n",
       "0      8.8        6  \n",
       "1      9.5        6  \n",
       "2     10.1        6  \n",
       "3      9.9        6  \n",
       "4      9.9        6  "
      ]
     },
     "execution_count": 4,
     "metadata": {},
     "output_type": "execute_result"
    }
   ],
   "source": [
    "dfw.head(5)"
   ]
  },
  {
   "cell_type": "markdown",
   "metadata": {},
   "source": [
    "### In order to use Binary Logistics Model, reclassify wine quality ranking (1 to 10) in to a binary class of premium wine (1) and economy wine (0):###\n",
    "\n",
    "* Quality score <= 5: Economy Wine\n",
    "* Quality score >= 6: Premium Wine\n"
   ]
  },
  {
   "cell_type": "code",
   "execution_count": 5,
   "metadata": {},
   "outputs": [],
   "source": [
    "cutoff=6\n",
    "dfw['quality_binary']= dfw['quality'].apply(lambda x: 1 if (x >= cutoff) else 0)"
   ]
  },
  {
   "cell_type": "markdown",
   "metadata": {},
   "source": [
    "## Checking Logistic regression conditions###\n",
    "\n",
    "There are two key conditions for fitting a logistic regression model:\n",
    "\n",
    "* Logistic regression requires the observations to be independent of each other (same as its underlying Binomial distribution).\n",
    "Given relatively large number of samples this is a reasonable assumption in our case. We will revisit this condition for Training data set below.\n",
    "\n",
    "\n",
    "* Logistic regression requires there to be little or no multicollinearity among the independent variables. \n",
    "To test this, we look at correlation values and it heat map between various predictors. To decide whether (absolute value of) a correlation is \"too high\", we will use a cut-off value of abs(r)>= 0.7 borrowed from multiple-linear regression model and its  cut-off value for Variance Inflation Factor VIF=1/(1-r^2), between 2 to 5, to indicate significant collinearity between two predictors. In such case, one of the two predictor should be removed from the model.\n"
   ]
  },
  {
   "cell_type": "code",
   "execution_count": 6,
   "metadata": {},
   "outputs": [
    {
     "data": {
      "text/plain": [
       "Text(0.5, 1.0, 'Correlations heatmap for White wine abs(corr)>=0.7')"
      ]
     },
     "execution_count": 6,
     "metadata": {},
     "output_type": "execute_result"
    },
    {
     "data": {
      "image/png": "[encoded data removed]",
      "text/plain": [
       "<Figure size 432x288 with 2 Axes>"
      ]
     },
     "metadata": {
      "needs_background": "light"
     },
     "output_type": "display_data"
    }
   ],
   "source": [
    "dfwcorr=dfw.corr()\n",
    "sns.heatmap(dfwcorr[(dfwcorr<=-0.7) | (dfwcorr>=0.7)], cmap='coolwarm', annot=True)\n",
    "plt.title('Correlations heatmap for White wine abs(corr)>=0.7')"
   ]
  },
  {
   "cell_type": "markdown",
   "metadata": {},
   "source": [
    "Density has a correlation of +0.84 with residual sugar and -0.78 with alcohol. This is consistent with physical law of mixtures for density where residual sugar (heavier than water) increases density and alcohol that is lighter than water decreases density. Hence Density is a redundant predictor and it will be removed from the model."
   ]
  },
  {
   "cell_type": "code",
   "execution_count": 7,
   "metadata": {},
   "outputs": [
    {
     "data": {
      "image/png": "[encoded data removed]",
      "text/plain": [
       "<Figure size 1008x720 with 16 Axes>"
      ]
     },
     "metadata": {
      "needs_background": "light"
     },
     "output_type": "display_data"
    }
   ],
   "source": [
    "dfw.hist(figsize=(14,10));\n",
    "plt.show()"
   ]
  },
  {
   "cell_type": "markdown",
   "metadata": {},
   "source": [
    "The distribution for chlorides, free sulfur dioxide, and residual sugar appears skewed and hence are candidate for log transformation to obtain a distribution that is more normal (improves model performance)."
   ]
  },
  {
   "cell_type": "code",
   "execution_count": 8,
   "metadata": {},
   "outputs": [
    {
     "data": {
      "text/html": [
       "<div>\n",
       "<style scoped>\n",
       "    .dataframe tbody tr th:only-of-type {\n",
       "        vertical-align: middle;\n",
       "    }\n",
       "\n",
       "    .dataframe tbody tr th {\n",
       "        vertical-align: top;\n",
       "    }\n",
       "\n",
       "    .dataframe thead th {\n",
       "        text-align: right;\n",
       "    }\n",
       "</style>\n",
       "<table border=\"1\" class=\"dataframe\">\n",
       "  <thead>\n",
       "    <tr style=\"text-align: right;\">\n",
       "      <th></th>\n",
       "      <th>fixed acidity</th>\n",
       "      <th>volatile acidity</th>\n",
       "      <th>citric acid</th>\n",
       "      <th>residual sugar</th>\n",
       "      <th>chlorides</th>\n",
       "      <th>free sulfur dioxide</th>\n",
       "      <th>total sulfur dioxide</th>\n",
       "      <th>density</th>\n",
       "      <th>pH</th>\n",
       "      <th>sulphates</th>\n",
       "      <th>alcohol</th>\n",
       "      <th>quality</th>\n",
       "      <th>quality_binary</th>\n",
       "      <th>log_free sulfur dioxide</th>\n",
       "      <th>log_chlorides</th>\n",
       "      <th>log_residual sugar</th>\n",
       "    </tr>\n",
       "  </thead>\n",
       "  <tbody>\n",
       "    <tr>\n",
       "      <th>0</th>\n",
       "      <td>7.0</td>\n",
       "      <td>0.27</td>\n",
       "      <td>0.36</td>\n",
       "      <td>20.7</td>\n",
       "      <td>0.045</td>\n",
       "      <td>45.0</td>\n",
       "      <td>170.0</td>\n",
       "      <td>1.0010</td>\n",
       "      <td>3.00</td>\n",
       "      <td>0.45</td>\n",
       "      <td>8.8</td>\n",
       "      <td>6</td>\n",
       "      <td>1</td>\n",
       "      <td>3.806662</td>\n",
       "      <td>-3.101093</td>\n",
       "      <td>3.030134</td>\n",
       "    </tr>\n",
       "    <tr>\n",
       "      <th>1</th>\n",
       "      <td>6.3</td>\n",
       "      <td>0.30</td>\n",
       "      <td>0.34</td>\n",
       "      <td>1.6</td>\n",
       "      <td>0.049</td>\n",
       "      <td>14.0</td>\n",
       "      <td>132.0</td>\n",
       "      <td>0.9940</td>\n",
       "      <td>3.30</td>\n",
       "      <td>0.49</td>\n",
       "      <td>9.5</td>\n",
       "      <td>6</td>\n",
       "      <td>1</td>\n",
       "      <td>2.639057</td>\n",
       "      <td>-3.015935</td>\n",
       "      <td>0.470004</td>\n",
       "    </tr>\n",
       "    <tr>\n",
       "      <th>2</th>\n",
       "      <td>8.1</td>\n",
       "      <td>0.28</td>\n",
       "      <td>0.40</td>\n",
       "      <td>6.9</td>\n",
       "      <td>0.050</td>\n",
       "      <td>30.0</td>\n",
       "      <td>97.0</td>\n",
       "      <td>0.9951</td>\n",
       "      <td>3.26</td>\n",
       "      <td>0.44</td>\n",
       "      <td>10.1</td>\n",
       "      <td>6</td>\n",
       "      <td>1</td>\n",
       "      <td>3.401197</td>\n",
       "      <td>-2.995732</td>\n",
       "      <td>1.931521</td>\n",
       "    </tr>\n",
       "    <tr>\n",
       "      <th>3</th>\n",
       "      <td>7.2</td>\n",
       "      <td>0.23</td>\n",
       "      <td>0.32</td>\n",
       "      <td>8.5</td>\n",
       "      <td>0.058</td>\n",
       "      <td>47.0</td>\n",
       "      <td>186.0</td>\n",
       "      <td>0.9956</td>\n",
       "      <td>3.19</td>\n",
       "      <td>0.40</td>\n",
       "      <td>9.9</td>\n",
       "      <td>6</td>\n",
       "      <td>1</td>\n",
       "      <td>3.850148</td>\n",
       "      <td>-2.847312</td>\n",
       "      <td>2.140066</td>\n",
       "    </tr>\n",
       "    <tr>\n",
       "      <th>4</th>\n",
       "      <td>7.2</td>\n",
       "      <td>0.23</td>\n",
       "      <td>0.32</td>\n",
       "      <td>8.5</td>\n",
       "      <td>0.058</td>\n",
       "      <td>47.0</td>\n",
       "      <td>186.0</td>\n",
       "      <td>0.9956</td>\n",
       "      <td>3.19</td>\n",
       "      <td>0.40</td>\n",
       "      <td>9.9</td>\n",
       "      <td>6</td>\n",
       "      <td>1</td>\n",
       "      <td>3.850148</td>\n",
       "      <td>-2.847312</td>\n",
       "      <td>2.140066</td>\n",
       "    </tr>\n",
       "  </tbody>\n",
       "</table>\n",
       "</div>"
      ],
      "text/plain": [
       "   fixed acidity  volatile acidity  citric acid  residual sugar  chlorides  \\\n",
       "0            7.0              0.27         0.36            20.7      0.045   \n",
       "1            6.3              0.30         0.34             1.6      0.049   \n",
       "2            8.1              0.28         0.40             6.9      0.050   \n",
       "3            7.2              0.23         0.32             8.5      0.058   \n",
       "4            7.2              0.23         0.32             8.5      0.058   \n",
       "\n",
       "   free sulfur dioxide  total sulfur dioxide  density    pH  sulphates  \\\n",
       "0                 45.0                 170.0   1.0010  3.00       0.45   \n",
       "1                 14.0                 132.0   0.9940  3.30       0.49   \n",
       "2                 30.0                  97.0   0.9951  3.26       0.44   \n",
       "3                 47.0                 186.0   0.9956  3.19       0.40   \n",
       "4                 47.0                 186.0   0.9956  3.19       0.40   \n",
       "\n",
       "   alcohol  quality  quality_binary  log_free sulfur dioxide  log_chlorides  \\\n",
       "0      8.8        6               1                 3.806662      -3.101093   \n",
       "1      9.5        6               1                 2.639057      -3.015935   \n",
       "2     10.1        6               1                 3.401197      -2.995732   \n",
       "3      9.9        6               1                 3.850148      -2.847312   \n",
       "4      9.9        6               1                 3.850148      -2.847312   \n",
       "\n",
       "   log_residual sugar  \n",
       "0            3.030134  \n",
       "1            0.470004  \n",
       "2            1.931521  \n",
       "3            2.140066  \n",
       "4            2.140066  "
      ]
     },
     "execution_count": 8,
     "metadata": {},
     "output_type": "execute_result"
    }
   ],
   "source": [
    "# The distribution for the following predictors appears as skewed and hence are candidate for log transformation\n",
    "# to obtain a distribution that is more normal (improves model performance)\n",
    "\n",
    "dfw['log_free sulfur dioxide']=np.log(dfw['free sulfur dioxide'])\n",
    "dfw['log_chlorides']=np.log(dfw['chlorides'])\n",
    "dfw['log_residual sugar']=np.log(dfw['residual sugar'])\n",
    "\n",
    "dfw.head()"
   ]
  },
  {
   "cell_type": "code",
   "execution_count": 9,
   "metadata": {},
   "outputs": [
    {
     "data": {
      "text/plain": [
       "['fixed acidity',\n",
       " 'volatile acidity',\n",
       " 'citric acid',\n",
       " 'residual sugar',\n",
       " 'chlorides',\n",
       " 'free sulfur dioxide',\n",
       " 'total sulfur dioxide',\n",
       " 'density',\n",
       " 'pH',\n",
       " 'sulphates',\n",
       " 'alcohol',\n",
       " 'log_free sulfur dioxide',\n",
       " 'log_chlorides',\n",
       " 'log_residual sugar']"
      ]
     },
     "execution_count": 9,
     "metadata": {},
     "output_type": "execute_result"
    }
   ],
   "source": [
    "# list of predictors before removing Density\n",
    "predictors=list(dfw.columns)[:-5]+list(dfw.columns)[-3:]\n",
    "predictors"
   ]
  },
  {
   "cell_type": "code",
   "execution_count": 10,
   "metadata": {},
   "outputs": [
    {
     "data": {
      "text/plain": [
       "['fixed acidity',\n",
       " 'volatile acidity',\n",
       " 'citric acid',\n",
       " 'total sulfur dioxide',\n",
       " 'pH',\n",
       " 'sulphates',\n",
       " 'alcohol',\n",
       " 'log_free sulfur dioxide',\n",
       " 'log_chlorides',\n",
       " 'log_residual sugar']"
      ]
     },
     "execution_count": 10,
     "metadata": {},
     "output_type": "execute_result"
    }
   ],
   "source": [
    "# list of predictors after removing Density\n",
    "predictors.remove('density')\n",
    "predictors.remove('chlorides')\n",
    "predictors.remove('free sulfur dioxide')\n",
    "predictors.remove('residual sugar')\n",
    "\n",
    "predictors"
   ]
  },
  {
   "cell_type": "code",
   "execution_count": 11,
   "metadata": {},
   "outputs": [],
   "source": [
    "# Splitting the dataset into the Training set and Test set\n",
    "\n",
    "split_ratio=0.3\n",
    "\n",
    "X= dfw[predictors]\n",
    "Y= dfw['quality_binary']\n",
    "X_Train, X_Test, Y_Train, Y_Test = train_test_split(X, Y, test_size = split_ratio, random_state = 0) "
   ]
  },
  {
   "cell_type": "code",
   "execution_count": 12,
   "metadata": {},
   "outputs": [
    {
     "data": {
      "text/html": [
       "<div>\n",
       "<style scoped>\n",
       "    .dataframe tbody tr th:only-of-type {\n",
       "        vertical-align: middle;\n",
       "    }\n",
       "\n",
       "    .dataframe tbody tr th {\n",
       "        vertical-align: top;\n",
       "    }\n",
       "\n",
       "    .dataframe thead th {\n",
       "        text-align: right;\n",
       "    }\n",
       "</style>\n",
       "<table border=\"1\" class=\"dataframe\">\n",
       "  <thead>\n",
       "    <tr style=\"text-align: right;\">\n",
       "      <th></th>\n",
       "      <th>fixed acidity</th>\n",
       "      <th>volatile acidity</th>\n",
       "      <th>citric acid</th>\n",
       "      <th>total sulfur dioxide</th>\n",
       "      <th>pH</th>\n",
       "      <th>sulphates</th>\n",
       "      <th>alcohol</th>\n",
       "      <th>log_free sulfur dioxide</th>\n",
       "      <th>log_chlorides</th>\n",
       "      <th>log_residual sugar</th>\n",
       "      <th>quality_binary</th>\n",
       "    </tr>\n",
       "  </thead>\n",
       "  <tbody>\n",
       "    <tr>\n",
       "      <th>196</th>\n",
       "      <td>6.4</td>\n",
       "      <td>0.29</td>\n",
       "      <td>0.44</td>\n",
       "      <td>183.0</td>\n",
       "      <td>3.01</td>\n",
       "      <td>0.38</td>\n",
       "      <td>9.1</td>\n",
       "      <td>4.317488</td>\n",
       "      <td>-1.624552</td>\n",
       "      <td>1.280934</td>\n",
       "      <td>0</td>\n",
       "    </tr>\n",
       "    <tr>\n",
       "      <th>4552</th>\n",
       "      <td>6.4</td>\n",
       "      <td>0.55</td>\n",
       "      <td>0.26</td>\n",
       "      <td>104.0</td>\n",
       "      <td>3.22</td>\n",
       "      <td>0.73</td>\n",
       "      <td>13.1</td>\n",
       "      <td>2.995732</td>\n",
       "      <td>-3.611918</td>\n",
       "      <td>2.261763</td>\n",
       "      <td>1</td>\n",
       "    </tr>\n",
       "    <tr>\n",
       "      <th>133</th>\n",
       "      <td>6.6</td>\n",
       "      <td>0.24</td>\n",
       "      <td>0.27</td>\n",
       "      <td>188.0</td>\n",
       "      <td>3.24</td>\n",
       "      <td>0.51</td>\n",
       "      <td>9.2</td>\n",
       "      <td>3.828641</td>\n",
       "      <td>-3.352407</td>\n",
       "      <td>2.760010</td>\n",
       "      <td>0</td>\n",
       "    </tr>\n",
       "    <tr>\n",
       "      <th>2517</th>\n",
       "      <td>7.3</td>\n",
       "      <td>0.51</td>\n",
       "      <td>0.29</td>\n",
       "      <td>224.0</td>\n",
       "      <td>3.14</td>\n",
       "      <td>0.56</td>\n",
       "      <td>9.5</td>\n",
       "      <td>4.110874</td>\n",
       "      <td>-3.381395</td>\n",
       "      <td>2.424803</td>\n",
       "      <td>1</td>\n",
       "    </tr>\n",
       "    <tr>\n",
       "      <th>3034</th>\n",
       "      <td>6.9</td>\n",
       "      <td>0.25</td>\n",
       "      <td>0.47</td>\n",
       "      <td>156.0</td>\n",
       "      <td>3.15</td>\n",
       "      <td>0.55</td>\n",
       "      <td>9.4</td>\n",
       "      <td>3.583519</td>\n",
       "      <td>-3.170086</td>\n",
       "      <td>2.128232</td>\n",
       "      <td>1</td>\n",
       "    </tr>\n",
       "  </tbody>\n",
       "</table>\n",
       "</div>"
      ],
      "text/plain": [
       "      fixed acidity  volatile acidity  citric acid  total sulfur dioxide  \\\n",
       "196             6.4              0.29         0.44                 183.0   \n",
       "4552            6.4              0.55         0.26                 104.0   \n",
       "133             6.6              0.24         0.27                 188.0   \n",
       "2517            7.3              0.51         0.29                 224.0   \n",
       "3034            6.9              0.25         0.47                 156.0   \n",
       "\n",
       "        pH  sulphates  alcohol  log_free sulfur dioxide  log_chlorides  \\\n",
       "196   3.01       0.38      9.1                 4.317488      -1.624552   \n",
       "4552  3.22       0.73     13.1                 2.995732      -3.611918   \n",
       "133   3.24       0.51      9.2                 3.828641      -3.352407   \n",
       "2517  3.14       0.56      9.5                 4.110874      -3.381395   \n",
       "3034  3.15       0.55      9.4                 3.583519      -3.170086   \n",
       "\n",
       "      log_residual sugar  quality_binary  \n",
       "196             1.280934               0  \n",
       "4552            2.261763               1  \n",
       "133             2.760010               0  \n",
       "2517            2.424803               1  \n",
       "3034            2.128232               1  "
      ]
     },
     "execution_count": 12,
     "metadata": {},
     "output_type": "execute_result"
    }
   ],
   "source": [
    "dfw_Train= pd.concat([X_Train, Y_Train], axis=1, sort=False)\n",
    "dfw_Train.head()"
   ]
  },
  {
   "cell_type": "code",
   "execution_count": 13,
   "metadata": {},
   "outputs": [
    {
     "data": {
      "text/html": [
       "<div>\n",
       "<style scoped>\n",
       "    .dataframe tbody tr th:only-of-type {\n",
       "        vertical-align: middle;\n",
       "    }\n",
       "\n",
       "    .dataframe tbody tr th {\n",
       "        vertical-align: top;\n",
       "    }\n",
       "\n",
       "    .dataframe thead th {\n",
       "        text-align: right;\n",
       "    }\n",
       "</style>\n",
       "<table border=\"1\" class=\"dataframe\">\n",
       "  <thead>\n",
       "    <tr style=\"text-align: right;\">\n",
       "      <th></th>\n",
       "      <th>fixed acidity</th>\n",
       "      <th>volatile acidity</th>\n",
       "      <th>citric acid</th>\n",
       "      <th>total sulfur dioxide</th>\n",
       "      <th>pH</th>\n",
       "      <th>sulphates</th>\n",
       "      <th>alcohol</th>\n",
       "      <th>log_free sulfur dioxide</th>\n",
       "      <th>log_chlorides</th>\n",
       "      <th>log_residual sugar</th>\n",
       "      <th>quality_binary</th>\n",
       "    </tr>\n",
       "  </thead>\n",
       "  <tbody>\n",
       "    <tr>\n",
       "      <th>2762</th>\n",
       "      <td>7.3</td>\n",
       "      <td>0.32</td>\n",
       "      <td>0.35</td>\n",
       "      <td>163.0</td>\n",
       "      <td>3.24</td>\n",
       "      <td>0.42</td>\n",
       "      <td>10.7</td>\n",
       "      <td>2.079442</td>\n",
       "      <td>-2.995732</td>\n",
       "      <td>0.336472</td>\n",
       "      <td>0</td>\n",
       "    </tr>\n",
       "    <tr>\n",
       "      <th>42</th>\n",
       "      <td>7.0</td>\n",
       "      <td>0.31</td>\n",
       "      <td>0.26</td>\n",
       "      <td>160.0</td>\n",
       "      <td>3.13</td>\n",
       "      <td>0.46</td>\n",
       "      <td>9.8</td>\n",
       "      <td>3.332205</td>\n",
       "      <td>-2.673649</td>\n",
       "      <td>2.001480</td>\n",
       "      <td>1</td>\n",
       "    </tr>\n",
       "    <tr>\n",
       "      <th>1419</th>\n",
       "      <td>7.6</td>\n",
       "      <td>0.14</td>\n",
       "      <td>0.74</td>\n",
       "      <td>103.0</td>\n",
       "      <td>3.07</td>\n",
       "      <td>0.40</td>\n",
       "      <td>10.8</td>\n",
       "      <td>3.295837</td>\n",
       "      <td>-3.218876</td>\n",
       "      <td>0.470004</td>\n",
       "      <td>1</td>\n",
       "    </tr>\n",
       "    <tr>\n",
       "      <th>3664</th>\n",
       "      <td>5.0</td>\n",
       "      <td>0.29</td>\n",
       "      <td>0.54</td>\n",
       "      <td>155.0</td>\n",
       "      <td>3.27</td>\n",
       "      <td>0.34</td>\n",
       "      <td>12.9</td>\n",
       "      <td>3.988984</td>\n",
       "      <td>-3.352407</td>\n",
       "      <td>1.740466</td>\n",
       "      <td>1</td>\n",
       "    </tr>\n",
       "    <tr>\n",
       "      <th>2125</th>\n",
       "      <td>6.0</td>\n",
       "      <td>0.28</td>\n",
       "      <td>0.22</td>\n",
       "      <td>163.0</td>\n",
       "      <td>3.20</td>\n",
       "      <td>0.46</td>\n",
       "      <td>10.1</td>\n",
       "      <td>3.737670</td>\n",
       "      <td>-3.036554</td>\n",
       "      <td>2.497329</td>\n",
       "      <td>0</td>\n",
       "    </tr>\n",
       "  </tbody>\n",
       "</table>\n",
       "</div>"
      ],
      "text/plain": [
       "      fixed acidity  volatile acidity  citric acid  total sulfur dioxide  \\\n",
       "2762            7.3              0.32         0.35                 163.0   \n",
       "42              7.0              0.31         0.26                 160.0   \n",
       "1419            7.6              0.14         0.74                 103.0   \n",
       "3664            5.0              0.29         0.54                 155.0   \n",
       "2125            6.0              0.28         0.22                 163.0   \n",
       "\n",
       "        pH  sulphates  alcohol  log_free sulfur dioxide  log_chlorides  \\\n",
       "2762  3.24       0.42     10.7                 2.079442      -2.995732   \n",
       "42    3.13       0.46      9.8                 3.332205      -2.673649   \n",
       "1419  3.07       0.40     10.8                 3.295837      -3.218876   \n",
       "3664  3.27       0.34     12.9                 3.988984      -3.352407   \n",
       "2125  3.20       0.46     10.1                 3.737670      -3.036554   \n",
       "\n",
       "      log_residual sugar  quality_binary  \n",
       "2762            0.336472               0  \n",
       "42              2.001480               1  \n",
       "1419            0.470004               1  \n",
       "3664            1.740466               1  \n",
       "2125            2.497329               0  "
      ]
     },
     "execution_count": 13,
     "metadata": {},
     "output_type": "execute_result"
    }
   ],
   "source": [
    "#Test data set\n",
    "dfw_Test= pd.concat([X_Test, Y_Test], axis=1, sort=False)\n",
    "dfw_Test.head()"
   ]
  },
  {
   "cell_type": "code",
   "execution_count": 14,
   "metadata": {},
   "outputs": [
    {
     "data": {
      "text/html": [
       "<div>\n",
       "<style scoped>\n",
       "    .dataframe tbody tr th:only-of-type {\n",
       "        vertical-align: middle;\n",
       "    }\n",
       "\n",
       "    .dataframe tbody tr th {\n",
       "        vertical-align: top;\n",
       "    }\n",
       "\n",
       "    .dataframe thead th {\n",
       "        text-align: right;\n",
       "    }\n",
       "</style>\n",
       "<table border=\"1\" class=\"dataframe\">\n",
       "  <thead>\n",
       "    <tr style=\"text-align: right;\">\n",
       "      <th></th>\n",
       "      <th>Count</th>\n",
       "    </tr>\n",
       "    <tr>\n",
       "      <th>quality_binary</th>\n",
       "      <th></th>\n",
       "    </tr>\n",
       "  </thead>\n",
       "  <tbody>\n",
       "    <tr>\n",
       "      <th>0</th>\n",
       "      <td>1113</td>\n",
       "    </tr>\n",
       "    <tr>\n",
       "      <th>1</th>\n",
       "      <td>2315</td>\n",
       "    </tr>\n",
       "  </tbody>\n",
       "</table>\n",
       "</div>"
      ],
      "text/plain": [
       "                Count\n",
       "quality_binary       \n",
       "0                1113\n",
       "1                2315"
      ]
     },
     "execution_count": 14,
     "metadata": {},
     "output_type": "execute_result"
    }
   ],
   "source": [
    "# check number of positive and negative responses in the Traning data set\n",
    "dfw_Train.groupby(\"quality_binary\").count()[['fixed acidity']].rename(columns = {\"fixed acidity\": \"Count\"})"
   ]
  },
  {
   "cell_type": "code",
   "execution_count": 15,
   "metadata": {},
   "outputs": [
    {
     "data": {
      "text/html": [
       "<div>\n",
       "<style scoped>\n",
       "    .dataframe tbody tr th:only-of-type {\n",
       "        vertical-align: middle;\n",
       "    }\n",
       "\n",
       "    .dataframe tbody tr th {\n",
       "        vertical-align: top;\n",
       "    }\n",
       "\n",
       "    .dataframe thead th {\n",
       "        text-align: right;\n",
       "    }\n",
       "</style>\n",
       "<table border=\"1\" class=\"dataframe\">\n",
       "  <thead>\n",
       "    <tr style=\"text-align: right;\">\n",
       "      <th></th>\n",
       "      <th>Count</th>\n",
       "    </tr>\n",
       "    <tr>\n",
       "      <th>quality_binary</th>\n",
       "      <th></th>\n",
       "    </tr>\n",
       "  </thead>\n",
       "  <tbody>\n",
       "    <tr>\n",
       "      <th>0</th>\n",
       "      <td>527</td>\n",
       "    </tr>\n",
       "    <tr>\n",
       "      <th>1</th>\n",
       "      <td>943</td>\n",
       "    </tr>\n",
       "  </tbody>\n",
       "</table>\n",
       "</div>"
      ],
      "text/plain": [
       "                Count\n",
       "quality_binary       \n",
       "0                 527\n",
       "1                 943"
      ]
     },
     "execution_count": 15,
     "metadata": {},
     "output_type": "execute_result"
    }
   ],
   "source": [
    "# check number of positive and negative responses in the Test data set\n",
    "dfw_Test.groupby(\"quality_binary\").count()[['fixed acidity']].rename(columns = {\"fixed acidity\": \"Count\"})"
   ]
  },
  {
   "cell_type": "code",
   "execution_count": 16,
   "metadata": {},
   "outputs": [
    {
     "data": {
      "image/png": "[encoded data removed]",
      "text/plain": [
       "<Figure size 864x288 with 2 Axes>"
      ]
     },
     "metadata": {
      "needs_background": "light"
     },
     "output_type": "display_data"
    }
   ],
   "source": [
    "# check number of positive and negative responses in the Traning data set\n",
    "fig, ax = plt.subplots(1, 2, figsize=(12,4))\n",
    "sns.countplot(x=\"quality_binary\", data=dfw_Train, ax=ax[0])\n",
    "ax[0].set(title=\"No. of Obs. by Binary Quality Rating in Traning Data Set\");\n",
    "sns.countplot(x=\"quality_binary\", data=dfw_Test, ax=ax[1])\n",
    "ax[1].set(title=\"No. of Obs. by Binary Quality Rating in Test Data Set\");"
   ]
  },
  {
   "cell_type": "code",
   "execution_count": 17,
   "metadata": {},
   "outputs": [
    {
     "data": {
      "image/png": "[encoded data removed]",
      "text/plain": [
       "<Figure size 864x288 with 2 Axes>"
      ]
     },
     "metadata": {
      "needs_background": "light"
     },
     "output_type": "display_data"
    }
   ],
   "source": [
    "fig, ax = plt.subplots(1, 2, figsize=(12,4))\n",
    "sns.countplot(x=\"quality\", data=dfw.iloc[dfw_Train.index], ax=ax[0]);\n",
    "ax[0].set(title=\"Count of Observations by Quality Rating In Training Data Set\");\n",
    "sns.countplot(x=\"quality\", data=dfw.iloc[dfw_Test.index], ax=ax[1]);\n",
    "ax[1].set(title=\"Count of Observations by Quality Rating In Test Data Set\");"
   ]
  },
  {
   "cell_type": "markdown",
   "metadata": {},
   "source": [
    "### Train and Test Data Set Alignment###\n",
    "\n",
    "As seen from above graphs, ratio of number of premium to economy wine in training data set (2.1= 2315 / 1113) and that in the test data set (1.8=943/527) are about the same. Also histogram of quality rankings (1 to 10) of what makes up the premium (>5) or economy (<=5) wine in the training and test data sets are about the same. Hence Training and Test data set are aligned (similar profile as stratified sampling / splitting of the data)."
   ]
  },
  {
   "cell_type": "markdown",
   "metadata": {},
   "source": [
    "### Checking Balanced Training Data ###\n",
    "\n",
    "Logistic regression models perform better when the data is balanced, meaning the number of positive instances should be comparable to the number of negative instances. In the Train dataframe, there are approximately twice as many observations with positive value as those with negative target. \n",
    "For strongly unbalanced training datasets, we can:\n",
    "\n",
    "* Reduce the overrepresented class, by shuffling its rows and selecting n rows so that the two datasets - positive and negative classes will have comparable sizes.\n",
    "* Inflate the underrepresented class, by duplicating entries randomly so that the final dataset has an approximately equal number of positive and negative instances.\n",
    "* Another approach is to stratify the dataset that is to fetch randomly selected observations from each subclass and compose a new smaller dataset where both classes are equally represented.\n",
    "\n",
    "**However, in our case, this difference is not too high, so we can proceed with unmodified dataset.**\n"
   ]
  },
  {
   "cell_type": "markdown",
   "metadata": {},
   "source": [
    "### Checking Logistic regression conditions in Train data Set###\n",
    "\n",
    "There are two key conditions for fitting a logistic regression model:\n",
    "\n",
    "* Each predictor xi is linearly related to logit(pi) if all other predictors are held constant.\n",
    "While we can plot each predictor xi against logit(pi), we do not have sufficiently large data set to ensure that all other predictors are held constant. We assume this condition holds.\n",
    "\n",
    "\n",
    "* Each outcome Yi is independent of the other outcomes.\n",
    "For logistics regression, same as its underlying Binomial distribution, trials must be independent, given relatively large number of samples in each group of training set (1,113 and 2,315) this is a reasonable assumption."
   ]
  },
  {
   "cell_type": "code",
   "execution_count": 18,
   "metadata": {},
   "outputs": [
    {
     "name": "stdout",
     "output_type": "stream",
     "text": [
      "Optimization terminated successfully.\n",
      "         Current function value: 0.497858\n",
      "         Iterations 6\n"
     ]
    }
   ],
   "source": [
    "# Fit the model first iterration\n",
    "mw = Logit(dfw_Train['quality_binary'], dfw_Train[predictors])\n",
    "mw = mw.fit()"
   ]
  },
  {
   "cell_type": "code",
   "execution_count": 19,
   "metadata": {},
   "outputs": [
    {
     "name": "stdout",
     "output_type": "stream",
     "text": [
      "                             Results: Logit\n",
      "========================================================================\n",
      "Model:                Logit              Pseudo R-squared:   0.210      \n",
      "Dependent Variable:   quality_binary     AIC:                3433.3179  \n",
      "Date:                 2019-12-03 12:34   BIC:                3494.7152  \n",
      "No. Observations:     3428               Log-Likelihood:     -1706.7    \n",
      "Df Model:             9                  LL-Null:            -2160.8    \n",
      "Df Residuals:         3418               LLR p-value:        9.8921e-190\n",
      "Converged:            1.0000             Scale:              1.0000     \n",
      "No. Iterations:       6.0000                                            \n",
      "------------------------------------------------------------------------\n",
      "                         Coef.  Std.Err.    z     P>|z|   [0.025  0.975]\n",
      "------------------------------------------------------------------------\n",
      "fixed acidity           -0.3915   0.0483  -8.1075 0.0000 -0.4862 -0.2969\n",
      "volatile acidity        -6.7820   0.4850 -13.9843 0.0000 -7.7325 -5.8314\n",
      "citric acid             -0.5190   0.3541  -1.4657 0.1427 -1.2131  0.1750\n",
      "total sulfur dioxide    -0.0066   0.0014  -4.6664 0.0000 -0.0093 -0.0038\n",
      "pH                      -2.0709   0.1902 -10.8907 0.0000 -2.4436 -1.6982\n",
      "sulphates                1.6469   0.4137   3.9808 0.0001  0.8360  2.4577\n",
      "alcohol                  0.8995   0.0524  17.1635 0.0000  0.7968  1.0023\n",
      "log_free sulfur dioxide  0.7507   0.0988   7.5954 0.0000  0.5570  0.9444\n",
      "log_chlorides            0.0058   0.1428   0.0406 0.9676 -0.2742  0.2858\n",
      "log_residual sugar       0.2749   0.0537   5.1216 0.0000  0.1697  0.3802\n",
      "========================================================================\n",
      "\n"
     ]
    }
   ],
   "source": [
    "print(mw.summary2())"
   ]
  },
  {
   "cell_type": "markdown",
   "metadata": {},
   "source": [
    " ## Interpreting Regression Summary Output Table\n",
    " \n",
    " * **Converged** indicates the solver (default is Newton method) converged successfully. \n",
    "  \n",
    " * **No. Iterations** it took 6 iterations for the solver to find the solution.\n",
    "  \n",
    " * **Pseudo R-squared** is one of the model quality measurement, is a modest 21%. \n",
    "  \n",
    " * **LLR P-value** p-value for log-likelihood of the null model, since it is nearly zero (less than 0.05) we reject the null hypothesis that of model without predictors, where $\\text{logit}(p) = \\beta_0$. Hence we consider the model significant.\n",
    "  \n",
    " * **P > $|$z$|$** - is the p-value for **z-statistic** associated with the given parameter, i.e. the probability that the true value of the given regression parameter is equal to the null value zero, given the set of observations. Except for citric acid and chloride, p-values for remaining predictors are less than 0.05; hence they are statistically significant.\n"
   ]
  },
  {
   "cell_type": "code",
   "execution_count": 20,
   "metadata": {},
   "outputs": [
    {
     "data": {
      "text/plain": [
       "['fixed acidity',\n",
       " 'volatile acidity',\n",
       " 'total sulfur dioxide',\n",
       " 'pH',\n",
       " 'sulphates',\n",
       " 'alcohol',\n",
       " 'log_free sulfur dioxide',\n",
       " 'log_residual sugar']"
      ]
     },
     "execution_count": 20,
     "metadata": {},
     "output_type": "execute_result"
    }
   ],
   "source": [
    "# In second iteration of the model remove predictors that were not statistically significant in first iteration\n",
    "predictors.remove('citric acid')\n",
    "predictors.remove('log_chlorides')\n",
    "predictors"
   ]
  },
  {
   "cell_type": "code",
   "execution_count": 21,
   "metadata": {},
   "outputs": [
    {
     "name": "stdout",
     "output_type": "stream",
     "text": [
      "Optimization terminated successfully.\n",
      "         Current function value: 0.498172\n",
      "         Iterations 6\n",
      "                             Results: Logit\n",
      "========================================================================\n",
      "Model:                Logit              Pseudo R-squared:   0.210      \n",
      "Dependent Variable:   quality_binary     AIC:                3431.4686  \n",
      "Date:                 2019-12-03 12:34   BIC:                3480.5865  \n",
      "No. Observations:     3428               Log-Likelihood:     -1707.7    \n",
      "Df Model:             7                  LL-Null:            -2160.8    \n",
      "Df Residuals:         3420               LLR p-value:        2.2164e-191\n",
      "Converged:            1.0000             Scale:              1.0000     \n",
      "No. Iterations:       6.0000                                            \n",
      "------------------------------------------------------------------------\n",
      "                         Coef.  Std.Err.    z     P>|z|   [0.025  0.975]\n",
      "------------------------------------------------------------------------\n",
      "fixed acidity           -0.4137   0.0451  -9.1685 0.0000 -0.5021 -0.3252\n",
      "volatile acidity        -6.7176   0.4818 -13.9418 0.0000 -7.6620 -5.7732\n",
      "total sulfur dioxide    -0.0066   0.0014  -4.7345 0.0000 -0.0094 -0.0039\n",
      "pH                      -2.0652   0.1825 -11.3182 0.0000 -2.4228 -1.7075\n",
      "sulphates                1.6126   0.4124   3.9107 0.0001  0.8044  2.4208\n",
      "alcohol                  0.8976   0.0471  19.0423 0.0000  0.8052  0.9900\n",
      "log_free sulfur dioxide  0.7428   0.0986   7.5354 0.0000  0.5496  0.9360\n",
      "log_residual sugar       0.2740   0.0528   5.1874 0.0000  0.1704  0.3775\n",
      "========================================================================\n",
      "\n"
     ]
    }
   ],
   "source": [
    "# Fit the model second iteration\n",
    "mw = Logit(dfw_Train['quality_binary'], dfw_Train[predictors])\n",
    "mw = mw.fit()\n",
    "print(mw.summary2())"
   ]
  },
  {
   "cell_type": "markdown",
   "metadata": {},
   "source": [
    "**All p-value for remaining predictors are less than 0.05; hence are statistically significant, without much change to overall model performance based on Pseudo R-squared or AIC & BIC values.** "
   ]
  },
  {
   "cell_type": "code",
   "execution_count": 22,
   "metadata": {},
   "outputs": [
    {
     "data": {
      "image/png": "[encoded data removed]",
      "text/plain": [
       "<Figure size 432x288 with 1 Axes>"
      ]
     },
     "metadata": {
      "needs_background": "light"
     },
     "output_type": "display_data"
    }
   ],
   "source": [
    "dfw_Train.loc[:, 'p'] = mw.predict(dfw_Train[predictors])\n",
    "dfw_Train = dfw_Train.sort_values(by = ['p'], axis = 0)\n",
    "plt.plot(logit(dfw_Train.p), dfw_Train.p, '--')\n",
    "plt.plot(logit(dfw_Train.p), dfw_Train.quality_binary, '+')\n",
    "plt.xlabel('logit(p)')\n",
    "plt.ylabel('p')\n",
    "plt.title('Probability vs logit(p) for predicted and actual points in Train data')\n",
    "plt.show()"
   ]
  },
  {
   "cell_type": "code",
   "execution_count": 23,
   "metadata": {},
   "outputs": [
    {
     "data": {
      "image/png": "[encoded data removed]",
      "text/plain": [
       "<Figure size 432x288 with 1 Axes>"
      ]
     },
     "metadata": {
      "needs_background": "light"
     },
     "output_type": "display_data"
    }
   ],
   "source": [
    "#Box plot for predicted probabilities vs actual response for points in Train data\n",
    "dfw_Train.boxplot(column='p', by = 'quality_binary')\n",
    "plt.show();"
   ]
  },
  {
   "cell_type": "code",
   "execution_count": 24,
   "metadata": {},
   "outputs": [],
   "source": [
    "ths_default=0.5\n",
    "conf_mat = mw.pred_table(threshold=ths_default)\n",
    "tn_Train_default, fp_Train_default, fn_Train_default, tp_Train_default = conf_mat.flatten()"
   ]
  },
  {
   "cell_type": "code",
   "execution_count": 25,
   "metadata": {},
   "outputs": [
    {
     "name": "stdout",
     "output_type": "stream",
     "text": [
      "Accuracy of the model based on Train data using default threshold of 0.5 is: 0.7538\n"
     ]
    }
   ],
   "source": [
    "acc_Train_default = (tp_Train_default + tn_Train_default) / (tn_Train_default+fp_Train_default+fn_Train_default+tp_Train_default)\n",
    "print (\"Accuracy of the model based on Train data using default threshold of %1.1f is: %1.4f\" % (ths_default,acc_Train_default))"
   ]
  },
  {
   "cell_type": "code",
   "execution_count": 26,
   "metadata": {},
   "outputs": [
    {
     "name": "stdout",
     "output_type": "stream",
     "text": [
      "Mathews correlation coefficient, more robust against unbalanced binary response,\n",
      "between the estimates and the true response based on default threshold of 0.5 with Train data is: 0.4002\n"
     ]
    }
   ],
   "source": [
    "mcc_Train_default = (tp_Train_default * tn_Train_default - fp_Train_default * fn_Train_default)/\\\n",
    "np.sqrt((tp_Train_default + fp_Train_default)*(tp_Train_default + fn_Train_default)*\\\n",
    "(tn_Train_default + fp_Train_default)*(tn_Train_default + fn_Train_default))\n",
    "\n",
    "print (\"Mathews correlation coefficient, more robust against unbalanced binary response,\\\n",
    "\\nbetween the estimates and the true response based on default threshold of %1.1f with Train data is: %1.4f\" % (ths_default,mcc_Train_default))"
   ]
  },
  {
   "cell_type": "code",
   "execution_count": 27,
   "metadata": {},
   "outputs": [
    {
     "name": "stdout",
     "output_type": "stream",
     "text": [
      "Model's precision, fraction of correct estimates of all Predicted positives, based on default threshold of 0.5\n",
      "with Train data is: 0.7737\n",
      "\n",
      "Model's recall/sensitivity, fraction of correct estimates of True positives, based on default threshold of 0.5\n",
      "with Train data is: 0.8981\n"
     ]
    }
   ],
   "source": [
    "prc_Train_default = tp_Train_default / (tp_Train_default + fp_Train_default)\n",
    "rec_Train_default = tp_Train_default / (tp_Train_default + fn_Train_default)\n",
    "\n",
    "print (\"Model's precision, fraction of correct estimates of all Predicted positives, based on default threshold of %1.1f\\n\\\n",
    "with Train data is: %1.4f\" % (ths_default,prc_Train_default))\n",
    "print()\n",
    "print (\"Model's recall/sensitivity, fraction of correct estimates of True positives, based on default threshold of %1.1f\\n\\\n",
    "with Train data is: %1.4f\" % (ths_default,rec_Train_default))"
   ]
  },
  {
   "cell_type": "markdown",
   "metadata": {},
   "source": [
    "## Tune Threshold value based on Training Set before evaluating model using Test data"
   ]
  },
  {
   "cell_type": "code",
   "execution_count": 28,
   "metadata": {},
   "outputs": [],
   "source": [
    "# Set discrimination thresholds, create ROC dataframe\n",
    "ths = np.arange(0., 1.0, 0.01)\n",
    "\n",
    "# Containers\n",
    "sensitivity = []\n",
    "specificity = []\n",
    "accuracy = []\n",
    "matthews = []\n",
    "precision=[]\n",
    "\n",
    "# Main loop\n",
    "for th in ths:\n",
    "    # Generate estimates\n",
    "    conf_mat = mw.pred_table(threshold=th)\n",
    "    \n",
    "    # Extract TN, FP, ...\n",
    "    tn, fp, fn, tp = conf_mat.flatten()\n",
    "    \n",
    "    # Calculate sensitivity and specificity\n",
    "    sens = (1. * tp) / (tp + fn)\n",
    "    spec = (1. * tn) / (tn + fp) \n",
    "    prc  = (1. * tp) / (tp + fp)\n",
    "    \n",
    "    \n",
    "    # Calculate ACC and MCC\n",
    "    acc = (tp + tn) / np.sum(conf_mat)\n",
    "    mcc = (tp * tn - fp * fn)/np.sqrt((tp + fp)*(tp + fn)*(tn + fp)*(tn + fn))    \n",
    "\n",
    "    # Add to containers\n",
    "    sensitivity.append(sens)\n",
    "    specificity.append(spec)\n",
    "    accuracy.append(acc)\n",
    "    matthews.append(mcc)\n",
    "    precision.append(prc)"
   ]
  },
  {
   "cell_type": "code",
   "execution_count": 29,
   "metadata": {},
   "outputs": [],
   "source": [
    "# Bind all the numbers together\n",
    "roc = pd.DataFrame({'discret_thr' : ths, \n",
    "                    'sensitivity' : sensitivity, \n",
    "                    'specificity' : specificity,\n",
    "                    'precision' : precision,\n",
    "                    '_specificity' : [1 - x for x in specificity],\n",
    "                    'accuracy' : accuracy, \n",
    "                    'matthews' : matthews})"
   ]
  },
  {
   "cell_type": "code",
   "execution_count": 30,
   "metadata": {},
   "outputs": [
    {
     "data": {
      "image/png": "[encoded data removed]",
      "text/plain": [
       "<Figure size 432x288 with 1 Axes>"
      ]
     },
     "metadata": {
      "needs_background": "light"
     },
     "output_type": "display_data"
    }
   ],
   "source": [
    "# Where threshold equal 0.5\n",
    "idx_default_th = np.where(roc.discret_thr == 0.5)[0][0]\n",
    "\n",
    "# Max sum of spec and sens\n",
    "idx_youdensj = np.argmax(roc.sensitivity + roc.specificity)\n",
    "\n",
    " # Ballanced spec and sens\n",
    "idx_ballance = np.argmin(np.abs(roc.sensitivity - roc.specificity))\n",
    "\n",
    "idx_maxacc = np.argmax(roc.accuracy)\n",
    "idx_maxmcc = np.argmax(roc.matthews)\n",
    "\n",
    "plt.plot(roc._specificity, roc.sensitivity, label = 'ROC')\n",
    "\n",
    "plt.plot(np.arange(0., 1., 0.01), \n",
    "         np.arange(0., 1., 0.01), \n",
    "         '--')\n",
    "\n",
    "plt.plot(roc._specificity[idx_default_th], \n",
    "         roc.sensitivity[idx_default_th], \n",
    "         's', color = 'blue',\n",
    "         label = 'Default')\n",
    "\n",
    "plt.plot(roc._specificity[idx_youdensj], \n",
    "         roc.sensitivity[idx_youdensj], \n",
    "         's', color = 'red',\n",
    "         label = 'Max(Spec. + Sens.)')\n",
    "\n",
    "plt.plot(roc._specificity[idx_ballance], \n",
    "         roc.sensitivity[idx_ballance], \n",
    "         's', color = 'green', \n",
    "         label = 'Spec. = Sens.')\n",
    "\n",
    "plt.plot(roc._specificity[idx_maxacc], \n",
    "         roc.sensitivity[idx_maxacc], \n",
    "         's', color = 'purple',\n",
    "         label = 'Max. Accuracy')\n",
    "\n",
    "plt.plot(roc._specificity[idx_maxmcc], \n",
    "         roc.sensitivity[idx_maxmcc], \n",
    "         '^', color = 'cyan', \n",
    "         label = 'Max. MCC')\n",
    "\n",
    "\n",
    "idx_maxmcc = np.argmax(roc.matthews)\n",
    "x=roc.iloc[idx_maxmcc]._specificity\n",
    "ymin=x\n",
    "ymax=roc.iloc[idx_maxmcc].sensitivity\n",
    "\n",
    "plt.axvline(x=x, ymin=ymin, ymax=ymax,linewidth=2, color='black',label = 'Youden J') # show the line for Youden's J.\n",
    "\n",
    "plt.legend(loc = 4)\n",
    "plt.xlabel('1 - Specificity')\n",
    "plt.ylabel('Sensitivity')\n",
    "plt.title('ROC curve based on Train data')\n",
    "plt.show();"
   ]
  },
  {
   "cell_type": "markdown",
   "metadata": {},
   "source": [
    "As can be seen from above graph, the ROC point of maximum accuracy is far from **error-free point** (0,1). \n",
    "The ROC point of balanced sensitivity and specificity differs from both maximal accuracy and maximal MCC. \n",
    "The maximal MCC is identical to maximum of the sum of specificity and sensitivity. This point on the ROC curve is closest to the **error-free point** (0,1) and its corresponding threshold value is often considered to be the **optimal threshold**. The vertical distance between this point and the identity line is called **Youden's J**."
   ]
  },
  {
   "cell_type": "code",
   "execution_count": 31,
   "metadata": {},
   "outputs": [
    {
     "name": "stdout",
     "output_type": "stream",
     "text": [
      "Youden's J based on Train data is: 0.4450\n"
     ]
    }
   ],
   "source": [
    "J = max(roc.sensitivity + roc.specificity - 1)\n",
    "print ('Youden\\'s J based on Train data is: %1.4f' % J)"
   ]
  },
  {
   "cell_type": "code",
   "execution_count": 32,
   "metadata": {},
   "outputs": [
    {
     "name": "stdout",
     "output_type": "stream",
     "text": [
      "Area under ROC curve based on Train data is: 0.7998\n"
     ]
    }
   ],
   "source": [
    "# Sort by 1 - specificity so that area is calculated properly (otherwise we get negative values for area!)\n",
    "roc2=roc.copy()\n",
    "roc2 = roc2.sort_values(by = \"_specificity\")\n",
    "auc = np.trapz(y = roc2.sensitivity, x = roc2._specificity)\n",
    "print (\"Area under ROC curve based on Train data is: %1.4f\" % auc)"
   ]
  },
  {
   "cell_type": "markdown",
   "metadata": {},
   "source": [
    "Area under the receiver operating characteristics curve (AUC) is the probability that a model will estimate a randomly chosen binary response better than a random estimator. The greater the AUC value, the better the model. \n",
    "\n",
    "* A model whose estimates are generated at random is expected to result in $\\text{AUC} = 0.5$ (area under the identity line).\n",
    "* A model that produces the $\\text{AUC} < 0.5$ performs worse than a random estimator.\n",
    "  \n",
    "AUC's advantage is that it is independent of the particular choice of discrimination threshold and evaluates the model's overall capacity to discriminate between positive and negative responses across all possible thresholds.\n",
    "\n",
    "Since AUC>0.5 model performs better than a random estimator, next we investigate optimum threshold value."
   ]
  },
  {
   "cell_type": "code",
   "execution_count": 33,
   "metadata": {},
   "outputs": [
    {
     "data": {
      "image/png": "[encoded data removed]",
      "text/plain": [
       "<Figure size 432x288 with 1 Axes>"
      ]
     },
     "metadata": {
      "needs_background": "light"
     },
     "output_type": "display_data"
    }
   ],
   "source": [
    "plt.plot(roc.discret_thr, roc.matthews, 'x-')\n",
    "\n",
    "idx_maxmcc = np.argmax(roc.matthews)\n",
    "ths_maxmcc=roc.iloc[idx_maxmcc].discret_thr\n",
    "plt.axvline(ths_maxmcc, linewidth=2, color='r') # show the value of threshold where MCC is maximized with a red line\n",
    "\n",
    "plt.xlabel('Discrimination threshold')\n",
    "plt.ylabel('MCC')\n",
    "plt.title('MCC vs Discrimination threshold, red line shows point wehere MCC is maximized')\n",
    "plt.show()"
   ]
  },
  {
   "cell_type": "code",
   "execution_count": 34,
   "metadata": {},
   "outputs": [
    {
     "name": "stdout",
     "output_type": "stream",
     "text": [
      "MCC is maximized at threshold value of 0.62\n"
     ]
    }
   ],
   "source": [
    "print ('MCC is maximized at threshold value of %1.2f' % ths_maxmcc)"
   ]
  },
  {
   "cell_type": "code",
   "execution_count": 35,
   "metadata": {},
   "outputs": [
    {
     "data": {
      "image/png": "[encoded data removed]",
      "text/plain": [
       "<Figure size 432x288 with 1 Axes>"
      ]
     },
     "metadata": {
      "needs_background": "light"
     },
     "output_type": "display_data"
    }
   ],
   "source": [
    "plt.plot(roc.discret_thr, roc.precision, 'x-')\n",
    "plt.axvline(ths_maxmcc, linewidth=2, color='r') # show the value of threshold where MCC is maximized with a red line\n",
    "plt.xlabel('Discrimination threshold')\n",
    "plt.ylabel('Precision')\n",
    "plt.title('Precision vs Discrimination threshold based on Train data')\n",
    "plt.show()"
   ]
  },
  {
   "cell_type": "code",
   "execution_count": 36,
   "metadata": {},
   "outputs": [
    {
     "name": "stdout",
     "output_type": "stream",
     "text": [
      "Precision at point where MCC is maximized with a threshold value of 0.62 is: 0.8286\n"
     ]
    }
   ],
   "source": [
    "prc_maxmcc=roc.iloc[idx_maxmcc].precision\n",
    "print ('Precision at point where MCC is maximized with a threshold value of %1.2f is: %1.4f' % (ths_maxmcc,prc_maxmcc))"
   ]
  },
  {
   "cell_type": "code",
   "execution_count": 37,
   "metadata": {},
   "outputs": [
    {
     "data": {
      "image/png": "[encoded data removed]",
      "text/plain": [
       "<Figure size 432x288 with 1 Axes>"
      ]
     },
     "metadata": {
      "needs_background": "light"
     },
     "output_type": "display_data"
    }
   ],
   "source": [
    "plt.plot(roc.discret_thr, roc.sensitivity, 'x-')\n",
    "plt.axvline(ths_maxmcc, linewidth=2, color='r') # show the value of threshold where MCC is maximized with a red line\n",
    "plt.xlabel('Discrimination threshold')\n",
    "plt.ylabel('Recall / Sensitivity')\n",
    "plt.title('Recall / Sensitivity threshold based on Train data')\n",
    "plt.show()"
   ]
  },
  {
   "cell_type": "code",
   "execution_count": 38,
   "metadata": {},
   "outputs": [
    {
     "name": "stdout",
     "output_type": "stream",
     "text": [
      "Recall / Sensitivity at point where MCC is maximized with a threshold value of 0.62 is: 0.7810\n"
     ]
    }
   ],
   "source": [
    "rec_maxmcc=roc.iloc[idx_maxmcc].sensitivity\n",
    "print ('Recall / Sensitivity at point where MCC is maximized with a threshold value of %1.2f is: %1.4f' % (ths_maxmcc,rec_maxmcc))"
   ]
  },
  {
   "cell_type": "code",
   "execution_count": 39,
   "metadata": {},
   "outputs": [
    {
     "data": {
      "image/png": "[encoded data removed]",
      "text/plain": [
       "<Figure size 432x288 with 1 Axes>"
      ]
     },
     "metadata": {
      "needs_background": "light"
     },
     "output_type": "display_data"
    }
   ],
   "source": [
    "plt.plot(roc.precision, roc.sensitivity, label = 'Recall/Sensitivity vs. Precision')\n",
    "\n",
    "\n",
    "plt.plot(roc.precision[idx_default_th], \n",
    "         roc.sensitivity[idx_default_th], \n",
    "         's', color = 'blue',\n",
    "         label = 'Default')\n",
    "\n",
    "plt.plot(roc.precision[idx_youdensj], \n",
    "         roc.sensitivity[idx_youdensj], \n",
    "         's', color = 'red',\n",
    "         label = 'Max(Spec. + Sens.)')\n",
    "\n",
    "plt.plot( roc.precision[idx_ballance], \n",
    "         roc.sensitivity[idx_ballance], \n",
    "         's', color = 'green', \n",
    "         label = 'Spec. = Sens.')\n",
    "\n",
    "plt.plot( roc.precision[idx_maxacc], \n",
    "         roc.sensitivity[idx_maxacc], \n",
    "         's', color = 'purple',\n",
    "         label = 'Max. Accuracy')\n",
    "\n",
    "plt.plot( roc.precision[idx_maxmcc], \n",
    "         roc.sensitivity[idx_maxmcc], \n",
    "         '^', color = 'cyan', \n",
    "         label = 'Max. MCC')\n",
    "\n",
    "plt.legend(loc = 3, ncol=1, fontsize = 'small')\n",
    "\n",
    "plt.xlabel('Precision')\n",
    "plt.ylabel('Recall / Sensitivity')\n",
    "plt.title('Recall / Sensitivity vs Precision for various Threshold values based on Train data') \n",
    "plt.show();"
   ]
  },
  {
   "cell_type": "markdown",
   "metadata": {},
   "source": [
    "The wine maker has to balance the risk of a false positive (wine predicted as premium but in truth it is an economy wine), with higher precision in order to avoid disappointing customers and possibly loss of brand equity with the risk of a false negative (wine predicted as economy but in truth it is a premium wine), with higher recall/sensitivity in order to minimize loss of revenue and profit (may lead to higher volume and more customers in the economy segment).\n",
    "\n",
    "As seen from graphs above model's precision, fraction of correct estimates of all predicted positives, increases with threshold value while recall/sensitivity, fraction of correct estimates of true positives, decreases. The Max (Spec. + Sens.) Youden's J criteria on the ROC curve seems to optimize the mentioned  trade-off. Hence value of threshold value based on this criteria is used as final (replacing default value of 0.5) for the model and its performance valuation using test data."
   ]
  },
  {
   "cell_type": "code",
   "execution_count": 40,
   "metadata": {},
   "outputs": [
    {
     "name": "stdout",
     "output_type": "stream",
     "text": [
      "Select final threshold value based on Max(Spec. + Sens.) criteria: 0.62:\n"
     ]
    }
   ],
   "source": [
    "ths_final=roc.discret_thr[idx_youdensj]\n",
    "print ('Select final threshold value based on Max(Spec. + Sens.) criteria: %1.2f:'%(ths_final))"
   ]
  },
  {
   "cell_type": "code",
   "execution_count": 41,
   "metadata": {},
   "outputs": [],
   "source": [
    "ths_final=roc.discret_thr[idx_youdensj]\n",
    "conf_mat = mw.pred_table(threshold=ths_final)\n",
    "tn_Train_final, fp_Train_final, fn_Train_final, tp_Train_final = conf_mat.flatten()"
   ]
  },
  {
   "cell_type": "code",
   "execution_count": 42,
   "metadata": {},
   "outputs": [
    {
     "name": "stdout",
     "output_type": "stream",
     "text": [
      "Accuracy of the model based on Train data using final threshold of 0.62 is: 0.7430\n"
     ]
    }
   ],
   "source": [
    "acc_Train_final = (tp_Train_final + tn_Train_final) / (tn_Train_final+fp_Train_final+fn_Train_final+tp_Train_final)\n",
    "print (\"Accuracy of the model based on Train data using final threshold of %1.2f is: %1.4f\" % (ths_final,acc_Train_final))"
   ]
  },
  {
   "cell_type": "code",
   "execution_count": 43,
   "metadata": {},
   "outputs": [
    {
     "name": "stdout",
     "output_type": "stream",
     "text": [
      "Mathews correlation coefficient, more robust against unbalanced binary response,\n",
      "between the estimates and the true response based on final threshold of 0.62 with Train data is: 0.4332\n"
     ]
    }
   ],
   "source": [
    "mcc_Train_final = (tp_Train_final * tn_Train_final - fp_Train_final * fn_Train_final)/\\\n",
    "np.sqrt((tp_Train_final + fp_Train_final)*(tp_Train_final + fn_Train_final)*\\\n",
    "(tn_Train_final + fp_Train_final)*(tn_Train_final + fn_Train_final))\n",
    "\n",
    "print (\"Mathews correlation coefficient, more robust against unbalanced binary response,\\\n",
    "\\nbetween the estimates and the true response based on final threshold of %1.2f with Train data is: %1.4f\" % (ths_final,mcc_Train_final))"
   ]
  },
  {
   "cell_type": "code",
   "execution_count": 44,
   "metadata": {},
   "outputs": [
    {
     "name": "stdout",
     "output_type": "stream",
     "text": [
      "Model's precision, fraction of correct estimates of all Predicted positives, based on final threshold of 0.62\n",
      "with Train data is: 0.8286\n",
      "\n",
      "Model's recall/sensitivity, fraction of correct estimates of True positives, based on final threshold of 0.62\n",
      "with Train data is: 0.7810\n"
     ]
    }
   ],
   "source": [
    "prc_Train_final = tp_Train_final / (tp_Train_final + fp_Train_final)\n",
    "rec_Train_final = tp_Train_final / (tp_Train_final + fn_Train_final)\n",
    "\n",
    "print (\"Model's precision, fraction of correct estimates of all Predicted positives, based on final threshold of %1.2f\\n\\\n",
    "with Train data is: %1.4f\" % (ths_final,prc_Train_final))\n",
    "print()\n",
    "print (\"Model's recall/sensitivity, fraction of correct estimates of True positives, based on final threshold of %1.2f\\n\\\n",
    "with Train data is: %1.4f\" % (ths_final,rec_Train_final))"
   ]
  },
  {
   "cell_type": "code",
   "execution_count": 45,
   "metadata": {},
   "outputs": [
    {
     "data": {
      "image/png": "[encoded data removed]",
      "text/plain": [
       "<Figure size 432x288 with 1 Axes>"
      ]
     },
     "metadata": {
      "needs_background": "light"
     },
     "output_type": "display_data"
    }
   ],
   "source": [
    "dfw_Test.loc[:, 'p'] = mw.predict(dfw_Test[predictors])\n",
    "dfw_Test = dfw_Test.sort_values(by = ['p'], axis = 0)\n",
    "plt.plot(logit(dfw_Test.p), dfw_Test.p, '--')\n",
    "plt.plot(logit(dfw_Test.p), dfw_Test.quality_binary, '+')\n",
    "plt.xlabel('logit(p)')\n",
    "plt.ylabel('p')\n",
    "plt.title('Probability vs logit(p) for predicted and actual points in Test data')\n",
    "plt.show()"
   ]
  },
  {
   "cell_type": "code",
   "execution_count": 46,
   "metadata": {},
   "outputs": [
    {
     "data": {
      "image/png": "[encoded data removed]",
      "text/plain": [
       "<Figure size 432x288 with 1 Axes>"
      ]
     },
     "metadata": {
      "needs_background": "light"
     },
     "output_type": "display_data"
    }
   ],
   "source": [
    "# Box plot for predicted probabilities vs actual response for points in Test data\n",
    "dfw_Test.boxplot(column='p', by = 'quality_binary')\n",
    "plt.show()"
   ]
  },
  {
   "cell_type": "code",
   "execution_count": 47,
   "metadata": {},
   "outputs": [
    {
     "data": {
      "text/html": [
       "<div>\n",
       "<style scoped>\n",
       "    .dataframe tbody tr th:only-of-type {\n",
       "        vertical-align: middle;\n",
       "    }\n",
       "\n",
       "    .dataframe tbody tr th {\n",
       "        vertical-align: top;\n",
       "    }\n",
       "\n",
       "    .dataframe thead th {\n",
       "        text-align: right;\n",
       "    }\n",
       "</style>\n",
       "<table border=\"1\" class=\"dataframe\">\n",
       "  <thead>\n",
       "    <tr style=\"text-align: right;\">\n",
       "      <th>yhat</th>\n",
       "      <th>0</th>\n",
       "      <th>1</th>\n",
       "    </tr>\n",
       "    <tr>\n",
       "      <th>quality_binary</th>\n",
       "      <th></th>\n",
       "      <th></th>\n",
       "    </tr>\n",
       "  </thead>\n",
       "  <tbody>\n",
       "    <tr>\n",
       "      <th>0</th>\n",
       "      <td>340</td>\n",
       "      <td>187</td>\n",
       "    </tr>\n",
       "    <tr>\n",
       "      <th>1</th>\n",
       "      <td>212</td>\n",
       "      <td>731</td>\n",
       "    </tr>\n",
       "  </tbody>\n",
       "</table>\n",
       "</div>"
      ],
      "text/plain": [
       "yhat              0    1\n",
       "quality_binary          \n",
       "0               340  187\n",
       "1               212  731"
      ]
     },
     "execution_count": 47,
     "metadata": {},
     "output_type": "execute_result"
    }
   ],
   "source": [
    "dfw_Test.loc[:, 'yhat'] = (dfw_Test.p > ths_final) * 1\n",
    "pd.crosstab(dfw_Test.quality_binary, dfw_Test.yhat)"
   ]
  },
  {
   "cell_type": "code",
   "execution_count": 48,
   "metadata": {},
   "outputs": [],
   "source": [
    "tn_Test=pd.crosstab(dfw_Test.quality_binary, dfw_Test.yhat).iloc[0, 0]\n",
    "fp_Test=pd.crosstab(dfw_Test.quality_binary, dfw_Test.yhat).iloc[0, 1]\n",
    "fn_Test=pd.crosstab(dfw_Test.quality_binary, dfw_Test.yhat).iloc[1, 0]\n",
    "tp_Test=pd.crosstab(dfw_Test.quality_binary, dfw_Test.yhat).iloc[1, 1]"
   ]
  },
  {
   "cell_type": "code",
   "execution_count": 49,
   "metadata": {},
   "outputs": [
    {
     "name": "stdout",
     "output_type": "stream",
     "text": [
      "Accuraccy of the model based on final threshold of 0.62 for Test data is: 0.7286\n"
     ]
    }
   ],
   "source": [
    "acc_Test = (tp_Test + tn_Test) / (tn_Test+fp_Test+fn_Test+tp_Test)\n",
    "print (\"Accuraccy of the model based on final threshold of %1.2f for Test data is: %1.4f\" % (ths_final, acc_Test))"
   ]
  },
  {
   "cell_type": "code",
   "execution_count": 50,
   "metadata": {},
   "outputs": [
    {
     "name": "stdout",
     "output_type": "stream",
     "text": [
      "Mathews correlation coefficient, more robust against unbalanced binary response,\n",
      "between the estimates and the true response with final threshold of 0.62 for Test data is: 0.4163\n"
     ]
    }
   ],
   "source": [
    "mcc_Test = (tp_Test * tn_Test - fp_Test * fn_Test)/np.sqrt((tp_Test + fp_Test)*(tp_Test + fn_Test)*\\\n",
    "                                                           (tn_Test + fp_Test)*(tn_Test + fn_Test))\n",
    "print (\"Mathews correlation coefficient, more robust against unbalanced binary response,\\\n",
    "\\nbetween the estimates and the true response with final threshold of %1.2f for Test data is: %1.4f\" % (ths_final, mcc_Test))"
   ]
  },
  {
   "cell_type": "code",
   "execution_count": 51,
   "metadata": {},
   "outputs": [
    {
     "name": "stdout",
     "output_type": "stream",
     "text": [
      "Model's precision, fraction of correct estimates of all Predicted positives,with final threshold of 0.62\n",
      "for Test data is: 0.7963\n",
      "\n",
      "Model's recall/sensitivity, fraction of correct estimates of True positives, with final threshold of 0.62\n",
      "for Test data is 0.7752\n"
     ]
    }
   ],
   "source": [
    "prc_Test = tp_Test / (tp_Test + fp_Test)\n",
    "rec_Test = tp_Test / (tp_Test + fn_Test)\n",
    "print (\"Model's precision, fraction of correct estimates of all Predicted positives,with final threshold of %1.2f\\n\\\n",
    "for Test data is: %1.4f\" % (ths_final,prc_Test))\n",
    "print()\n",
    "print (\"Model's recall/sensitivity, fraction of correct estimates of True positives, with final threshold of %1.2f\\n\\\n",
    "for Test data is %1.4f\" % (ths_final,rec_Test))"
   ]
  },
  {
   "cell_type": "code",
   "execution_count": 52,
   "metadata": {},
   "outputs": [
    {
     "name": "stdout",
     "output_type": "stream",
     "text": [
      "Data     Threshold  Precision  Recall    ACC     MCC\n",
      "Train    0.50       0.774      0.898     0.754   0.400 \n",
      "Train    0.62       0.829      0.781     0.743   0.433 \n",
      "Test     0.62       0.796      0.775     0.729   0.416 \n"
     ]
    }
   ],
   "source": [
    "print (\"Data     Threshold  Precision  Recall    ACC     MCC\")\n",
    "print( \"Train    %1.2f       %1.3f      %1.3f     %1.3f   %1.3f \" %(ths_default,prc_Train_default,rec_Train_default,acc_Train_default,mcc_Train_default))\n",
    "print( \"Train    %1.2f       %1.3f      %1.3f     %1.3f   %1.3f \" %(ths_final,prc_Train_final,rec_Train_final,acc_Train_final,mcc_Train_final))\n",
    "print( \"Test     %1.2f       %1.3f      %1.3f     %1.3f   %1.3f \" %(ths_final,prc_Test,rec_Test,acc_Test,mcc_Test))"
   ]
  },
  {
   "cell_type": "markdown",
   "metadata": {},
   "source": [
    "## Summary"
   ]
  },
  {
   "cell_type": "markdown",
   "metadata": {},
   "source": [
    "* In order to use Binary Logistics Model, wine quality ranking (1 to 10) were reclassify in to a binary class of premium wine (1) and economy wine (0)\n",
    "\n",
    "\n",
    "* Logistic regression condition for observations to be independent of each other is assumed to be reasonable.\n",
    "\n",
    "\n",
    "* Logistic regression condition that there to be little or no multicollinearity among the independent variables was not initially met. Based on analysis of correlations among various predictors. Density was removed from list of predictors to satisfy the multicollinearity condition.\n",
    "\n",
    "\n",
    "* Chlorides, free sulfur dioxide, and residual sugar were transformed using log transformation to obtain a more normal distribution and in turn improves model performance. Data was split between Training and Test set using 30% as the split ratio\n",
    "\n",
    "\n",
    "* Balance of data points with positive and negative response in Training data set was deemed adequate, 3 options to improve balance for future studies was recommended.\n",
    "\n",
    "\n",
    "* First iteration of Binary Logistics Regression model was fit to Training data. Two predictors, citric acid and chlorides, with p-values greater than 0.05; statistically not significant, were removed from list of predictors.\n",
    "\n",
    "\n",
    "* Second iteration of the model was fit to Training data with the remaining predictors. All p-values were less than 0.05; hence predictors were statistically significant, without much change to overall model performance based on Pseudo R-squared or AIC & BIC values (compared to first iteration).\n",
    "\n",
    "\n",
    "* The default threshold value (0.5) was tuned using Training data set and ROC curve (before evaluating model using Test data).The maximal MCC, identical to maximum of the sum of specificity and sensitivity, was the closest point to the **error-free point** (0,1) and its corresponding threshold value was selected as the **optimal threshold** (0.62).\n",
    "\n",
    "\n",
    "* The selected optimal threshold value also strike a balance between the risks of false positive (wine predicted as premium wine but in truth it is an economy wine. This could lead to a disappointed customers and loss of brand equity) and risk of a false negative (wine predicted as economy but in truth it is a premium wine. This could lead to loss of revenue and profit).\n",
    "\n",
    "\n",
    "* Model performance, with optimal threshold value, was evaluated using Test data set. Metrics, including Precision, Recall, ACC and MCC, were comparable to those from Train data set (also with optimal threshold value).\n",
    "\n",
    "\n",
    "* While wine maker can explore more advanced models (with possibly higher performance), the final Binary Logistics Model is \"adequate\" to predict wine classification: premium versus economy wine, based on selected predictors."
   ]
  }
 ],
 "metadata": {
  "kernelspec": {
   "display_name": "Python 3",
   "language": "python",
   "name": "python3"
  },
  "language_info": {
   "codemirror_mode": {
    "name": "ipython",
    "version": 3
   },
   "file_extension": ".py",
   "mimetype": "text/x-python",
   "name": "python",
   "nbconvert_exporter": "python",
   "pygments_lexer": "ipython3",
   "version": "3.7.3"
  }
 },
 "nbformat": 4,
 "nbformat_minor": 2
}
